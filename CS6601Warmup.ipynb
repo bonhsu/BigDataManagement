{
  "nbformat": 4,
  "nbformat_minor": 0,
  "metadata": {
    "colab": {
      "provenance": [],
      "include_colab_link": true
    },
    "kernelspec": {
      "name": "python3",
      "display_name": "Python 3"
    },
    "language_info": {
      "name": "python"
    }
  },
  "cells": [
    {
      "cell_type": "markdown",
      "metadata": {
        "id": "view-in-github",
        "colab_type": "text"
      },
      "source": [
        "<a href=\"https://colab.research.google.com/github/bonhsu/BigDataManagement/blob/main/CS6601Warmup.ipynb\" target=\"_parent\"><img src=\"https://colab.research.google.com/assets/colab-badge.svg\" alt=\"Open In Colab\"/></a>"
      ]
    },
    {
      "cell_type": "markdown",
      "source": [
        "#Assignment 0: Priority Queue\n",
        "\n",
        "\n",
        "---\n",
        "Hello and welcome to CS6601! In this first assignment, you will be implementing Priority Queue using a heap. You will use this PQ for the next assignment.\n",
        "\n",
        "To have a copy of this notebook you can save, please go to \"Files\" -> \"Save a copy in Drive\"\n",
        "\n",
        "While there are many ways of implementing a priority queue, we ask you to follow the implmentation we lay out for you. This assignment is designed mainly as a litnus test to allow you to decide for yourself whether you have the skills with python to succeed in this course.\n",
        "\n",
        "For this assignment and all assignments going forward, we will provide to you the resources you may use to familiarize yourself with the concepts we will ask you to code. Please DO NOT use any outside resources aside from these outside of basic python syntax questions.\n",
        "\n",
        "For example, you should not google 'How to implement Priority Queue' but 'how to slice a list in python' is okay.\n",
        "\n",
        "Priority Queue Resources:\n",
        "\n",
        "https://pages.cs.wisc.edu/~vernon/cs367/notes/11.PRIORITY-Q.html\n",
        "\n",
        "https://csvistool.com/Heap\n"
      ],
      "metadata": {
        "id": "uCIetaRGkkT2"
      }
    },
    {
      "cell_type": "markdown",
      "source": [
        "# Unit Tests\n",
        "\n",
        "For testing your implementation. We use the import heapq as this abstracts the actual code away from the implementation. Feel free to look through these if you want an idea of what we're looking at, or even as an example of how to write unit tests for your own code.\n",
        "\n",
        "Note: You can have the Unit tests print out their expected output vs your output by passing in the argument 'verbose = True'"
      ],
      "metadata": {
        "id": "cneszzLBkncb"
      }
    },
    {
      "cell_type": "code",
      "execution_count": 1,
      "metadata": {
        "id": "aLI4IuG7kjYG"
      },
      "outputs": [],
      "source": [
        "import numpy as np\n",
        "import heapq\n",
        "import random\n",
        "\n",
        "def test_heapify_up(check_tuple = False, verbose = False):\n",
        "  passes = 0\n",
        "  runs = 0\n",
        "\n",
        "  while runs < 5:\n",
        "    # Set up the target\n",
        "    test_arr = list(np.random.rand(20))\n",
        "    if check_tuple:\n",
        "      test_arr_tuples = []\n",
        "      for i in test_arr:\n",
        "        test_arr_tuples.append((i, \"test\"))\n",
        "      test_arr = test_arr_tuples\n",
        "    new_element = test_arr[random.randint(0, 19)]\n",
        "    heapq.heapify(test_arr)\n",
        "    target_arr = test_arr.copy()\n",
        "    target_arr.remove(new_element)\n",
        "    heapq.heapify(target_arr)\n",
        "    heapq.heappush(target_arr, new_element)\n",
        "\n",
        "    # Set up the student's array\n",
        "    student_arr = test_arr.copy()\n",
        "    student_arr.remove(new_element)\n",
        "    heapq.heapify(student_arr)\n",
        "    student_arr.append(new_element)\n",
        "    student_heaped_arr = heapify_up(student_arr)\n",
        "\n",
        "    if np.array_equiv(student_heaped_arr, target_arr):\n",
        "      passes += 1\n",
        "\n",
        "    if verbose:\n",
        "      print(\"Selected value\", new_element)\n",
        "      print(\"<<<\", student_heaped_arr)\n",
        "      print(\">>>\", target_arr)\n",
        "    runs += 1\n",
        "\n",
        "  if passes > 3:\n",
        "    print(\"Tests passed\")\n",
        "  else:\n",
        "    print(\"Test failed. Recheck implementation\")\n"
      ]
    },
    {
      "cell_type": "code",
      "source": [
        "def test_heapify_down(check_tuple = False, verbose = False):\n",
        "  passes = 0\n",
        "  runs = 0\n",
        "  fail = False\n",
        "\n",
        "  while runs < 5:\n",
        "    # Set up the target\n",
        "    test_arr = list(np.random.rand(20))\n",
        "    if check_tuple:\n",
        "      test_arr_tuples = []\n",
        "      for i in test_arr:\n",
        "        test_arr_tuples.append((i, \"test\"))\n",
        "      test_arr = test_arr_tuples\n",
        "    heapq.heapify(test_arr)\n",
        "    target_arr = test_arr.copy()\n",
        "    heapq.heappop(target_arr)\n",
        "\n",
        "    # Set up the student's array\n",
        "    student_arr = test_arr.copy()[1:]\n",
        "    last_element = student_arr[-1]\n",
        "    student_arr = student_arr[:-1]\n",
        "    student_arr.insert(0, last_element)\n",
        "    student_heaped_arr = heapify_down(student_arr)\n",
        "\n",
        "    if check_tuple:\n",
        "      if not isinstance(student_heaped_arr[0], tuple):\n",
        "        print(\"Invalid elements in list: items in list should be tuples of the form (int, str)\")\n",
        "        break\n",
        "\n",
        "    if np.array_equiv(student_heaped_arr, target_arr):\n",
        "      passes += 1\n",
        "    runs += 1\n",
        "\n",
        "    if verbose:\n",
        "        print(\"your  : <<<\", student_heaped_arr)\n",
        "        print(\"target: >>>\", target_arr)\n",
        "\n",
        "        print(\">>>>>>>>>>>>>>>>>>>>>Tests running<<<<<<<<<<<<<<<<<<<<<<<<<<<<\")\n",
        "\n",
        "  if passes > 3:\n",
        "    print(\"Tests passed\")\n",
        "  else:\n",
        "    print(\"Test failed. Recheck implementation\")"
      ],
      "metadata": {
        "id": "MoZyMEgPkpzg"
      },
      "execution_count": null,
      "outputs": []
    },
    {
      "cell_type": "code",
      "source": [
        "def test_heapify_push(check_tuple = False, verbose = False):\n",
        "  passes = 0\n",
        "  runs = 0\n",
        "\n",
        "  while runs < 5:\n",
        "    # Set up the target\n",
        "    new_element = random.randint(0, 99)\n",
        "    test_arr = list(np.random.rand(100))\n",
        "    if check_tuple:\n",
        "      test_arr_tuples = []\n",
        "      for i in test_arr:\n",
        "        test_arr_tuples.append((i, \"test\"))\n",
        "      test_arr = test_arr_tuples\n",
        "      new_element = (new_element, \"new\")\n",
        "    heapq.heapify(test_arr)\n",
        "    target_arr = test_arr.copy()\n",
        "    heapq.heappush(target_arr, new_element)\n",
        "\n",
        "    # Set up the student's array\n",
        "    student_heaped_arr = push(test_arr.copy(), new_element)\n",
        "\n",
        "    if check_tuple:\n",
        "      if not isinstance(student_heaped_arr[0], tuple):\n",
        "        print(\"Invalid elements in list: items in list should be tuples of the form (int, str)\")\n",
        "        break\n",
        "\n",
        "    if np.array_equiv(student_heaped_arr, target_arr):\n",
        "      passes += 1\n",
        "    runs += 1\n",
        "\n",
        "    if verbose:\n",
        "      print(\"your  : <<<\", student_heaped_arr)\n",
        "      print(\"target: >>>\", target_arr)\n",
        "      print(\">>>>>>>>>>>>>>>>>>>>>Tests running<<<<<<<<<<<<<<<<<<<<<<<<<<<<\")\n",
        "\n",
        "  if passes > 3:\n",
        "    print(\"Tests passed\")\n",
        "  else:\n",
        "    print(\"Test failed. Recheck implementation\")"
      ],
      "metadata": {
        "id": "yVmeYIwnks2N"
      },
      "execution_count": null,
      "outputs": []
    },
    {
      "cell_type": "code",
      "source": [
        "def test_heapify_pop(check_tuple = False, verbose = False):\n",
        "  passes = 0\n",
        "  runs = 0\n",
        "\n",
        "  while runs < 5:\n",
        "    # Set up the target\n",
        "    test_arr = list(np.random.rand(100))\n",
        "    if check_tuple:\n",
        "      test_arr_tuples = []\n",
        "      for i in test_arr:\n",
        "        test_arr_tuples.append((i, \"test\"))\n",
        "      test_arr = test_arr_tuples\n",
        "    heapq.heapify(test_arr)\n",
        "    heaped_arr = test_arr.copy()\n",
        "    target_element = heapq.heappop(heaped_arr)\n",
        "\n",
        "    # Set up the student's array\n",
        "    popped_element, student_heaped_arr = pop(test_arr.copy())\n",
        "\n",
        "    if check_tuple:\n",
        "      if not isinstance(popped_element, tuple):\n",
        "        print(\"Invalid elements in list: items in list should be tuples of the form (int, str)\")\n",
        "        break\n",
        "\n",
        "    if np.array_equiv(student_heaped_arr, heaped_arr) and popped_element == target_element:\n",
        "      passes += 1\n",
        "    runs += 1\n",
        "\n",
        "    if verbose:\n",
        "      print(\"your  : <<<\", student_heaped_arr)\n",
        "      print(\"target: >>>\", heaped_arr)\n",
        "\n",
        "      print(\"your element : <<<\", popped_element)\n",
        "      print(\"target element: <<<\", popped_element)\n",
        "      print(\">>>>>>>>>>>>>>>>>>>>>Tests running<<<<<<<<<<<<<<<<<<<<<<<<<<<<\")\n",
        "\n",
        "  if passes > 3:\n",
        "    print(\"Tests passed\")\n",
        "  else:\n",
        "    print(\"Test failed. Recheck implementation\")"
      ],
      "metadata": {
        "id": "ghyTxTo5kub-"
      },
      "execution_count": null,
      "outputs": []
    },
    {
      "cell_type": "code",
      "source": [
        "def test_heapify_peek(check_tuple = False, verbose = False):\n",
        "  passes = 0\n",
        "  runs = 0\n",
        "\n",
        "  while runs < 5:\n",
        "    # Set up the target\n",
        "    test_arr = list(np.random.rand(100))\n",
        "    if check_tuple:\n",
        "      test_arr_tuples = []\n",
        "      for i in test_arr:\n",
        "        test_arr_tuples.append((i, \"test\"))\n",
        "      test_arr = test_arr_tuples\n",
        "    heapq.heapify(test_arr)\n",
        "\n",
        "    # Set up the student's array\n",
        "    peeked_element = peek(test_arr)\n",
        "\n",
        "    if check_tuple:\n",
        "      if not isinstance(peeked_element, tuple):\n",
        "        print(\"Invalid elements in list: items in list should be tuples of the form (int, str)\")\n",
        "        break\n",
        "\n",
        "    if peeked_element == test_arr[0]:\n",
        "      passes += 1\n",
        "    runs += 1\n",
        "\n",
        "  if passes > 3:\n",
        "    print(\"Tests passed\")\n",
        "  else:\n",
        "    print(\"Test failed. Recheck implementation\")"
      ],
      "metadata": {
        "id": "ZdqrMM8Dkv2I"
      },
      "execution_count": null,
      "outputs": []
    },
    {
      "cell_type": "code",
      "source": [
        "def test_fifo_heap():\n",
        "  passes = 0\n",
        "  runs = 0\n",
        "  print(\"If this test runs forever, that means you aren't popping elements off of your PQ\")\n",
        "\n",
        "  # Set up the target\n",
        "  test_arr = []\n",
        "  test_arr = push(test_arr, (1, \"Welcome \"))\n",
        "  test_arr = push(test_arr, (2, \"to \"))\n",
        "  test_arr = push(test_arr, (2, \"CS\"))\n",
        "  test_arr = push(test_arr, (3, \"6601\"))\n",
        "  test_arr = push(test_arr, (3, \"!\"))\n",
        "\n",
        "  # Set up the student's array\n",
        "  strings = []\n",
        "  while test_arr:\n",
        "    popped_element, test_arr = pop(test_arr.copy())\n",
        "    strings.append(popped_element[-1])\n",
        "\n",
        "  message = \"\".join(strings)\n",
        "\n",
        "  if message == \"Welcome to CS6601!\":\n",
        "    print(f'{message}')\n",
        "  else:\n",
        "    print(\"Test failed\")\n",
        "    print(message)\n",
        "\n"
      ],
      "metadata": {
        "id": "KAYHrS-gOh78"
      },
      "execution_count": null,
      "outputs": []
    },
    {
      "cell_type": "markdown",
      "source": [
        "#The Heap Structure\n",
        "\n",
        "A heap is a specialized tree-based data structure that satisfies the heap property. The heap property is a crucial characteristic that distinguishes heaps from regular binary trees. Heaps are primarily used to efficiently manage and retrieve the maximum or minimum element in constant time, making them valuable for various applications, such as priority queues and sorting algorithms like heapsort.\n",
        "\n",
        "There are two main types of heaps:\n",
        "\n",
        "Max Heap: In a max heap, for every node N, the value of N is greater than or equal to the values of its children. This means that the maximum element is stored at the root of the heap.\n",
        "\n",
        "Min Heap: In a min heap, for every node N, the value of N is less than or equal to the values of its children. This means that the minimum element is stored at the root of the heap.\n",
        "\n",
        "For this assignment, you will be implementing a Binary Min Heap.\n",
        "\n",
        "***YOU ARE NOT ALLOWED TO USE THE IMPORT HEAPQ***\n"
      ],
      "metadata": {
        "id": "Z5vOPb_Ukymj"
      }
    },
    {
      "cell_type": "markdown",
      "source": [
        "## Heapify up and Heapify Down\n",
        "For a Binary Heap, the insertion operations has a time complexity of O(log(n)). For our implementation, the new element is inserted at the end of the array and then propegated up to its proper place in the array. Recall that::\n",
        "\n",
        "*   For our Min-Heap, every node N must have a value less than or equal to the value of its children.\n",
        "*   For a node in index i, the index of the left child is (2 * i + 1), and the index of the right child is index (2 * i + 2)\n",
        "\n"
      ],
      "metadata": {
        "id": "yxL_6eIRk1KJ"
      }
    },
    {
      "cell_type": "code",
      "source": [
        "# You may define any helper functions you would like to use here\n",
        "######################\n",
        "# YOUR CODE BELOW HERE\n",
        "######################\n",
        "\n",
        "######################\n",
        "# YOUR CODE ABOVE HERE\n",
        "######################"
      ],
      "metadata": {
        "id": "KAD-DazckzGo"
      },
      "execution_count": null,
      "outputs": []
    },
    {
      "cell_type": "code",
      "source": [
        "def heapify_up(heap):\n",
        "  \"\"\"\n",
        "  Given an heap with a new, unordered element at the end of the list, propegate the unordered element to its proper place in the list in respect to the heap structure\n",
        "  arguments:\n",
        "    heap: list\n",
        "\n",
        "  returns:\n",
        "    heap: list\n",
        "  \"\"\"\n",
        "  ######################\n",
        "  # YOUR CODE BELOW HERE\n",
        "  ######################\n",
        "\n",
        "  ######################\n",
        "  # YOUR CODE ABOVE HERE\n",
        "  ######################\n",
        "\n",
        "  return heap"
      ],
      "metadata": {
        "id": "vGY6XXP6k475"
      },
      "execution_count": null,
      "outputs": []
    },
    {
      "cell_type": "code",
      "source": [
        "test_heapify_up()"
      ],
      "metadata": {
        "id": "kM-8xXSxtxoj"
      },
      "execution_count": null,
      "outputs": []
    },
    {
      "cell_type": "code",
      "source": [
        "def heapify_down(heap):\n",
        "  \"\"\"\n",
        "  Restores the heap structure after the top element has been popped off.\n",
        "  The last element in the heap takes the place of the new-vacant head and is propegated down to its proper place.\n",
        "\n",
        "  Note: Assume in the heap that you are passed that the pop has already happened.\n",
        "  arguments:\n",
        "    heap: list\n",
        "\n",
        "  returns:\n",
        "    heap: list\n",
        "  \"\"\"\n",
        "  ######################\n",
        "  # YOUR CODE BELOW HERE\n",
        "  ######################\n",
        "\n",
        "  ######################\n",
        "  # YOUR CODE ABOVE HERE\n",
        "  ######################\n",
        "\n",
        "  return heap"
      ],
      "metadata": {
        "id": "x-ZAtbmdk6MN"
      },
      "execution_count": null,
      "outputs": []
    },
    {
      "cell_type": "code",
      "source": [
        "test_heapify_down()"
      ],
      "metadata": {
        "id": "WQJtcCOat2Ak"
      },
      "execution_count": null,
      "outputs": []
    },
    {
      "cell_type": "markdown",
      "source": [
        "## Push, pop and peak\n",
        "\n",
        "The basic functions used to retrieve and insert elements into the heap."
      ],
      "metadata": {
        "id": "ZE12g3Qgk9sR"
      }
    },
    {
      "cell_type": "code",
      "source": [
        "def push(heap, new_element):\n",
        "  \"\"\"\n",
        "  Inserts a new element into the end of the heap and propegates it to its proper place.\n",
        "\n",
        "  Using the functions defined in the previous section, this can be done in two lines of code.\n",
        "  arguments:\n",
        "    heap: list\n",
        "    new_element: int\n",
        "\n",
        "  returns:\n",
        "    heap: list\n",
        "  \"\"\"\n",
        "  ######################\n",
        "  # YOUR CODE BELOW HERE\n",
        "  ######################\n",
        "\n",
        "  ######################\n",
        "  # YOUR CODE ABOVE HERE\n",
        "  ######################\n",
        "\n",
        "  return heap"
      ],
      "metadata": {
        "id": "xkI6h_RBk8zR"
      },
      "execution_count": null,
      "outputs": []
    },
    {
      "cell_type": "code",
      "source": [
        "test_heapify_push()"
      ],
      "metadata": {
        "id": "PRuqB0f1t4q8"
      },
      "execution_count": null,
      "outputs": []
    },
    {
      "cell_type": "code",
      "source": [
        "def pop(heap):\n",
        "  \"\"\"\n",
        "  Removes the element at the top of the heap, ensures the heap retains its structure and returns the element.\n",
        "\n",
        "  If the heap is empty, return None\n",
        "  arguments:\n",
        "    heap: list of length j\n",
        "\n",
        "  returns:\n",
        "    element: int\n",
        "    heap: list of length j-1\n",
        "  \"\"\"\n",
        "  element = 0\n",
        "  ######################\n",
        "  # YOUR CODE BELOW HERE\n",
        "  ######################\n",
        "\n",
        "  ######################\n",
        "  # YOUR CODE ABOVE HERE\n",
        "  ######################\n",
        "\n",
        "  return element, heap"
      ],
      "metadata": {
        "id": "PykQAs47k_8a"
      },
      "execution_count": null,
      "outputs": []
    },
    {
      "cell_type": "code",
      "source": [
        "test_heapify_pop()"
      ],
      "metadata": {
        "id": "kw3WkK0ht9ct"
      },
      "execution_count": null,
      "outputs": []
    },
    {
      "cell_type": "code",
      "source": [
        "def peek(heap):\n",
        "  \"\"\"\n",
        "  Returns the element at the top of the heap without removing it.\n",
        "\n",
        "  This can be done with one line of code.\n",
        "\n",
        "  If the heap is empty, return None\n",
        "  arguments:\n",
        "    heap: list\n",
        "\n",
        "  returns:\n",
        "    element: int\n",
        "  \"\"\"\n",
        "  element = 0\n",
        "  ######################\n",
        "  # YOUR CODE BELOW HERE\n",
        "  ######################\n",
        "\n",
        "  ######################\n",
        "  # YOUR CODE ABOVE HERE\n",
        "  ######################\n",
        "\n",
        "  return element"
      ],
      "metadata": {
        "id": "1f7gCqmHlBXm"
      },
      "execution_count": null,
      "outputs": []
    },
    {
      "cell_type": "code",
      "source": [
        "test_heapify_peek()"
      ],
      "metadata": {
        "id": "abUb_WeCt_TG"
      },
      "execution_count": null,
      "outputs": []
    },
    {
      "cell_type": "markdown",
      "source": [
        "# Priority Queue\n",
        "Congratulations! With this, you've just about implemented heap-based Priority Queue! Now, let's make it a little more complicated.\n",
        "\n",
        "With your current implementation, the heap can be used as a Priority Queue where the inputs are all values and we treat said value as the inputs priority. A lower value means a higher priority.\n",
        "\n",
        "Now, let's generalize. Change your priority queue such that it can handle tuples as inputs in the form (priority, element)."
      ],
      "metadata": {
        "id": "SGEzGXuKlEII"
      }
    },
    {
      "cell_type": "code",
      "source": [
        "# You may define any helper functions you would like to use here\n",
        "######################\n",
        "# YOUR CODE BELOW HERE\n",
        "######################\n",
        "\n",
        "######################\n",
        "# YOUR CODE ABOVE HERE\n",
        "######################"
      ],
      "metadata": {
        "id": "tqfdM1qslCw8"
      },
      "execution_count": null,
      "outputs": []
    },
    {
      "cell_type": "code",
      "source": [
        "def heapify_up(heap):\n",
        "  \"\"\"\n",
        "  Given an heap with a new, unordered element at the end of the list, propegate the unordered element to its proper place in the list in respect to the heap structure\n",
        "  arguments:\n",
        "    heap: list\n",
        "\n",
        "  returns:\n",
        "    heap: list\n",
        "  \"\"\"\n",
        "  ######################\n",
        "  # YOUR CODE BELOW HERE\n",
        "  ######################\n",
        "\n",
        "  ######################\n",
        "  # YOUR CODE ABOVE HERE\n",
        "  ######################\n",
        "\n",
        "  return heap\n",
        "\n",
        "def heapify_down(heap):\n",
        "  \"\"\"\n",
        "  Restores the heap structure after the top element has been popped off.\n",
        "  The last element in the heap takes the place of the new-vacant head and is propegated down to its proper place.\n",
        "  arguments:\n",
        "    heap: list\n",
        "\n",
        "  returns:\n",
        "    heap: list\n",
        "  \"\"\"\n",
        "  ######################\n",
        "  # YOUR CODE BELOW HERE\n",
        "  ######################\n",
        "\n",
        "  ######################\n",
        "  # YOUR CODE ABOVE HERE\n",
        "  ######################\n",
        "\n",
        "  return heap\n",
        "\n",
        "\n",
        "def push(heap, new_element):\n",
        "  \"\"\"\n",
        "  Inserts a new element into the end of the heap and propegates it to its proper place.\n",
        "\n",
        "  Using the functions defined in the previous section, this can be done in two lines of code.\n",
        "  arguments:\n",
        "    heap: list\n",
        "    new_element: tuple of the form (int, str)\n",
        "\n",
        "  returns:\n",
        "    heap: list\n",
        "  \"\"\"\n",
        "  ######################\n",
        "  # YOUR CODE BELOW HERE\n",
        "  ######################\n",
        "\n",
        "  ######################\n",
        "  # YOUR CODE ABOVE HERE\n",
        "  ######################\n",
        "\n",
        "  return heap\n",
        "\n",
        "def pop(heap):\n",
        "  \"\"\"\n",
        "  Removes the element at the top of the heap, ensures the heap retains its structure and returns the element.\n",
        "\n",
        "  If the heap is empty, return None\n",
        "  arguments:\n",
        "    heap: list of length j\n",
        "\n",
        "  returns:\n",
        "    element: tuple of the form (int, str)\n",
        "    heap: list of length j-1\n",
        "  \"\"\"\n",
        "  element = 0\n",
        "  ######################\n",
        "  # YOUR CODE BELOW HERE\n",
        "  ######################\n",
        "\n",
        "  ######################\n",
        "  # YOUR CODE ABOVE HERE\n",
        "  ######################\n",
        "\n",
        "  return element, heap\n",
        "\n",
        "\n",
        "def peek(heap):\n",
        "  \"\"\"\n",
        "  Returns the element at the top of the heap without removing it.\n",
        "\n",
        "  This can be done with one line of code.\n",
        "\n",
        "  If the heap is empty, return None\n",
        "  arguments:\n",
        "    heap: list\n",
        "\n",
        "  returns:\n",
        "    element: tuple of the form (int, str)\n",
        "  \"\"\"\n",
        "  element = (0, None)\n",
        "  ######################\n",
        "  # YOUR CODE BELOW HERE\n",
        "  ######################\n",
        "\n",
        "  ######################\n",
        "  # YOUR CODE ABOVE HERE\n",
        "  ######################\n",
        "\n",
        "  return element"
      ],
      "metadata": {
        "id": "uPpJ5M_jlGpp"
      },
      "execution_count": null,
      "outputs": []
    },
    {
      "cell_type": "code",
      "source": [
        "test_heapify_up(check_tuple = True)\n",
        "test_heapify_down(check_tuple = True)\n",
        "test_heapify_push(check_tuple = True)\n",
        "test_heapify_pop(check_tuple = True)\n",
        "test_heapify_peek(check_tuple = True)"
      ],
      "metadata": {
        "id": "B4QhIpJGuB79"
      },
      "execution_count": null,
      "outputs": []
    },
    {
      "cell_type": "markdown",
      "source": [
        "# Priority Queue 2.0\n",
        "Now for the last part of this assignment. Adjust your implementation such that *order is preserved* when elements with the same priority are pushed and popped from the PQ. For example, if (1, Apple1) is put into the PQ and then (1, Apple2) is put into the PQ, we want Apple1 to come out before Apple2."
      ],
      "metadata": {
        "id": "GeCJIeaPlJdd"
      }
    },
    {
      "cell_type": "code",
      "source": [
        "def heapify_up(heap):\n",
        "  \"\"\"\n",
        "  Given an heap with a new, unordered element at the end of the list, propegate the unordered element to its proper place in the list in respect to the heap structure\n",
        "  arguments:\n",
        "    heap: list\n",
        "\n",
        "  returns:\n",
        "    heap: list\n",
        "  \"\"\"\n",
        "  ######################\n",
        "  # YOUR CODE BELOW HERE\n",
        "  ######################\n",
        "\n",
        "  ######################\n",
        "  # YOUR CODE ABOVE HERE\n",
        "  ######################\n",
        "\n",
        "  return heap\n",
        "\n",
        "def heapify_down(heap):\n",
        "  \"\"\"\n",
        "  Restores the heap structure after the top element has been popped off.\n",
        "  The last element in the heap takes the place of the new-vacant head and is propegated down to its proper place.\n",
        "  arguments:\n",
        "    heap: list\n",
        "\n",
        "  returns:\n",
        "    heap: list\n",
        "  \"\"\"\n",
        "  ######################\n",
        "  # YOUR CODE BELOW HERE\n",
        "  ######################\n",
        "\n",
        "  ######################\n",
        "  # YOUR CODE ABOVE HERE\n",
        "  ######################\n",
        "\n",
        "  return heap\n",
        "\n",
        "\n",
        "def push(heap, new_element):\n",
        "  \"\"\"\n",
        "  Inserts a new element into the end of the heap and propegates it to its proper place.\n",
        "\n",
        "  Using the functions defined in the previous section, this can be done in two lines of code.\n",
        "  arguments:\n",
        "    heap: list\n",
        "    new_element: tuple of the form (int, str)\n",
        "\n",
        "  returns:\n",
        "    heap: list\n",
        "  \"\"\"\n",
        "  ######################\n",
        "  # YOUR CODE BELOW HERE\n",
        "  ######################\n",
        "\n",
        "  ######################\n",
        "  # YOUR CODE ABOVE HERE\n",
        "  ######################\n",
        "\n",
        "  return heap\n",
        "\n",
        "def pop(heap):\n",
        "  \"\"\"\n",
        "  Removes the element at the top of the heap, ensures the heap retains its structure and returns the element.\n",
        "\n",
        "  If the heap is empty, return None\n",
        "  arguments:\n",
        "    heap: list of length j\n",
        "\n",
        "  returns:\n",
        "    element: tuple of the form (int, str)\n",
        "    heap: list of length j-1\n",
        "  \"\"\"\n",
        "  element = 0\n",
        "  ######################\n",
        "  # YOUR CODE BELOW HERE\n",
        "  ######################\n",
        "\n",
        "  ######################\n",
        "  # YOUR CODE ABOVE HERE\n",
        "  ######################\n",
        "\n",
        "  return element, heap\n",
        "\n",
        "\n",
        "def peek(heap):\n",
        "  \"\"\"\n",
        "  Returns the element at the top of the heap without removing it.\n",
        "\n",
        "  This can be done with one line of code.\n",
        "\n",
        "  If the heap is empty, return None\n",
        "  arguments:\n",
        "    heap: list\n",
        "\n",
        "  returns:\n",
        "    element: tuple of the form (int, str)\n",
        "  \"\"\"\n",
        "  element = (0, None)\n",
        "  ######################\n",
        "  # YOUR CODE BELOW HERE\n",
        "  ######################\n",
        "\n",
        "  ######################\n",
        "  # YOUR CODE ABOVE HERE\n",
        "  ######################\n",
        "\n",
        "  return element"
      ],
      "metadata": {
        "id": "e9ffLNnNlIOy"
      },
      "execution_count": null,
      "outputs": []
    }
  ]
}